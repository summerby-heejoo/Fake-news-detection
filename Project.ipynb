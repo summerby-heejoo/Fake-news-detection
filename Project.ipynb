{
 "cells": [
  {
   "cell_type": "markdown",
   "id": "a62bbbaf-b09f-48ef-874c-9118e17f5839",
   "metadata": {},
   "source": [
    "#### Libraries imports, downloads and constants"
   ]
  },
  {
   "cell_type": "code",
   "execution_count": 3,
   "id": "3d31c9c2-8828-435d-b2a6-0e604f3a778f",
   "metadata": {},
   "outputs": [],
   "source": [
    "import pandas as pd\n",
    "import numpy as np\n",
    "import nltk\n",
    "from nltk.corpus import stopwords\n",
    "from nltk.stem import WordNetLemmatizer\n",
    "import re\n",
    "\n",
    "import pickle\n",
    "import bcolz\n",
    "import torch\n",
    "import torch.nn as nn\n",
    "from torch.utils.data import Dataset, DataLoader\n",
    "from tqdm import tqdm"
   ]
  },
  {
   "cell_type": "code",
   "execution_count": 4,
   "id": "ac569cb5-9bbe-4a07-9fdf-179ee5e1e981",
   "metadata": {},
   "outputs": [],
   "source": [
    "config = {\n",
    "    'batch_size': 256,       \n",
    "    'lr': 0.005,           \n",
    "    'epochs' : 10,     \n",
    "    'data_path' : \"./data/\",  \n",
    "    'max_length' : 300,\n",
    "    'reuters_remove' : True\n",
    "}"
   ]
  },
  {
   "cell_type": "code",
   "execution_count": 5,
   "id": "ab95120f-59b2-414c-a7c2-601ff229c7b0",
   "metadata": {},
   "outputs": [
    {
     "name": "stderr",
     "output_type": "stream",
     "text": [
      "[nltk_data] Downloading package punkt to\n",
      "[nltk_data]     C:\\Users\\samue\\AppData\\Roaming\\nltk_data...\n",
      "[nltk_data]   Package punkt is already up-to-date!\n",
      "[nltk_data] Downloading package stopwords to\n",
      "[nltk_data]     C:\\Users\\samue\\AppData\\Roaming\\nltk_data...\n",
      "[nltk_data]   Package stopwords is already up-to-date!\n",
      "[nltk_data] Downloading package wordnet to\n",
      "[nltk_data]     C:\\Users\\samue\\AppData\\Roaming\\nltk_data...\n",
      "[nltk_data]   Package wordnet is already up-to-date!\n"
     ]
    },
    {
     "data": {
      "text/plain": [
       "True"
      ]
     },
     "execution_count": 5,
     "metadata": {},
     "output_type": "execute_result"
    }
   ],
   "source": [
    "# Download NLTK resources (you only need to do this once)\n",
    "nltk.download('punkt')\n",
    "nltk.download('stopwords')\n",
    "nltk.download('wordnet')"
   ]
  },
  {
   "cell_type": "markdown",
   "id": "fa8c4de5-077e-44b7-aa1a-ea5a8612989b",
   "metadata": {},
   "source": [
    "### Data preprocessing"
   ]
  },
  {
   "cell_type": "code",
   "execution_count": 6,
   "id": "272d06f6-e95a-46dc-a9d1-a13fff0ee4a8",
   "metadata": {},
   "outputs": [],
   "source": [
    "# Function for text preprocessing (stop-word removal and lemmatization)\n",
    "def preprocess_text(text):\n",
    "    # Convert to lowercase\n",
    "    text = text.lower()\n",
    "    \n",
    "    # Remove special characters, numbers, and punctuation\n",
    "    text = re.sub(r'[^a-z\\s]', '', text)\n",
    "    \n",
    "    # Tokenization (split the text into words)\n",
    "    words = nltk.word_tokenize(text)\n",
    "    \n",
    "    # Remove stopwords\n",
    "    stop_words = set(stopwords.words('english'))\n",
    "    #Cause it is third most used word\n",
    "    stop_words.add(\"u\")\n",
    "    words = [word for word in words if word not in stop_words]\n",
    "    \n",
    "    # Lemmatization (reduce words to their base or root form using WordNet lemmatizer)\n",
    "    lemmatizer = WordNetLemmatizer()\n",
    "    words = [lemmatizer.lemmatize(word) for word in words]\n",
    "    \n",
    "    # Join the words back into a string\n",
    "    processed_text = ' '.join(words)\n",
    "    \n",
    "    return processed_text\n",
    "\n",
    "# Apply text preprocessing to the 'text' column in your DataFrame\n",
    "trueNews = pd.read_csv('data/True.csv')\n",
    "trueNews['processed_text'] = trueNews['text'].apply(preprocess_text)\n",
    "fakeNews = pd.read_csv('data/Fake.csv')  \n",
    "fakeNews['processed_text'] = fakeNews['text'].apply(preprocess_text)\n"
   ]
  },
  {
   "cell_type": "code",
   "execution_count": 7,
   "id": "25a64736-826e-4bc0-b1e0-9a60a4f99040",
   "metadata": {},
   "outputs": [],
   "source": [
    "#Calculating length of processed text and adding labels\n",
    "def length_of_proccessed(text):\n",
    "    text = text.split(\" \")\n",
    "    return len(text)\n",
    "\n",
    "fakeNews[\"truth\"] = 0\n",
    "trueNews[\"truth\"] = 1\n",
    "\n",
    "fakeNews[\"length\"] = fakeNews[\"processed_text\"].apply(length_of_proccessed)\n",
    "trueNews[\"length\"] = trueNews[\"processed_text\"].apply(length_of_proccessed)\n",
    "allNews = pd.concat([fakeNews, trueNews], ignore_index=True)"
   ]
  },
  {
   "cell_type": "code",
   "execution_count": 8,
   "id": "52a64dea-0222-4ce4-969c-ed48ed917fd2",
   "metadata": {},
   "outputs": [],
   "source": [
    "#Dropping unused columns and removing too short news\n",
    "allNews =  allNews[(allNews[\"length\"] > 20)]\n",
    "allNews = allNews.reset_index()\n",
    "allNews = allNews.drop([\"date\", \"subject\", \"index\"], axis = 1)"
   ]
  },
  {
   "cell_type": "code",
   "execution_count": 10,
   "id": "db8ca7aa-cf32-49a6-9634-7934a2a62c07",
   "metadata": {},
   "outputs": [],
   "source": [
    "#Splitting dataset\n",
    "train_data = allNews.sample(frac = 0.75)\n",
    "test_data = allNews.drop(train_data.index)\n",
    "\n",
    "train_data = train_data.reset_index().drop([\"index\"], axis = 1)\n",
    "test_data = test_data.reset_index().drop([\"index\"], axis = 1)\n",
    "\n",
    "train_data.to_csv( config[\"data_path\"] + \"train.csv\", index = False)\n",
    "test_data.to_csv(config[\"data_path\"] + \"test.csv\", index = False)"
   ]
  },
  {
   "cell_type": "markdown",
   "id": "e72b69fc-1dad-4c2f-b687-e9bb46165817",
   "metadata": {},
   "source": [
    "#### Pytorch section - definition of NN, training and etc."
   ]
  },
  {
   "cell_type": "code",
   "execution_count": 11,
   "id": "27e8969d-8cdf-4eec-a25a-cf3787cd275b",
   "metadata": {},
   "outputs": [
    {
     "data": {
      "text/plain": [
       "device(type='cuda')"
      ]
     },
     "execution_count": 11,
     "metadata": {},
     "output_type": "execute_result"
    }
   ],
   "source": [
    "#using gpu if avaible otherwise cpu\n",
    "dev = torch.device(\"cuda\") if torch.cuda.is_available() else torch.device(\"cpu\")\n",
    "dev"
   ]
  },
  {
   "cell_type": "code",
   "execution_count": 12,
   "id": "8592c38b-32dd-4cae-9725-af43ec7dd603",
   "metadata": {},
   "outputs": [],
   "source": [
    "#Creating required files for creating embeddings\n",
    "#One time call, it is quite slow.\n",
    "# https://medium.com/@martinpella/how-to-use-pre-trained-word-embeddings-in-pytorch-71ca59249f76\n",
    "\n",
    "words = []\n",
    "idx = 0\n",
    "word2idx = {}\n",
    "vectors = bcolz.carray(np.zeros(1), rootdir=f'data/glove.twitter.27B.100.dat', mode='w')\n",
    "\n",
    "with open('data/glove.twitter.27B.100d.txt', 'rb') as f:\n",
    "    for l in f:\n",
    "        line = l.decode().split()\n",
    "        word = line[0]\n",
    "        words.append(word)\n",
    "        word2idx[word] = idx\n",
    "        idx += 1\n",
    "        vect = np.array(line[1:]).astype(np.float64)\n",
    "        vectors.append(vect)\n",
    "        #not embbedings for all words, cause there was some bug with loading last one\n",
    "        #and the last ones were not english words\n",
    "        if(idx == 1193500):\n",
    "            break\n",
    "            \n",
    "vectors = bcolz.carray(vectors.reshape((1193500, 100)), rootdir=f'{config[\"data_path\"]}glove.twitter.27B.100.dat', mode='w')\n",
    "vectors.flush()\n",
    "pickle.dump(words, open(f'{config[\"data_path\"]}27B.100_words.pkl', 'wb'))\n",
    "pickle.dump(word2idx, open(f'{config[\"data_path\"]}27B.100_words.pkl', 'wb'))"
   ]
  },
  {
   "cell_type": "code",
   "execution_count": 13,
   "id": "188a304c-7670-4e4e-a046-479e57b91ae9",
   "metadata": {},
   "outputs": [],
   "source": [
    "def create_embedings(vocabulary):\n",
    "    \n",
    "    vectors = bcolz.open(f'{config[\"data_path\"]}glove.twitter.27B.100.dat')[:]\n",
    "    words = pickle.load(open(f'{config[\"data_path\"]}27B.100_words.pkl', 'rb'))\n",
    "    word2idx = pickle.load(open(f'{config[\"data_path\"]}27B.100_words.pkl', 'rb'))\n",
    "    \n",
    "    glove = {w: vectors[word2idx[w]] for w in words}\n",
    "    word_to_idx = {}\n",
    "    \n",
    "    weights = []\n",
    "    counter = 0\n",
    "    for i in range(len(vocabulary)):\n",
    "        if counter == 10000:\n",
    "            break\n",
    "        if vocabulary[i] in glove:\n",
    "            #removing reutes from embeddings and so from the data\n",
    "            if vocabulary[i] == \"reuters\" and config[\"reuters_remove\"]:\n",
    "                continue\n",
    "            weights.append(glove[vocabulary[i]])\n",
    "            word_to_idx[vocabulary[i]] = counter\n",
    "            counter += 1\n",
    "            \n",
    "    weights.append([0 for i in range(100)]) # adding pad element\n",
    "    weights = np.array(weights)\n",
    "    weight = torch.FloatTensor(weights)\n",
    "    embedding = nn.Embedding.from_pretrained(weight, padding_idx = 10000)\n",
    "    return embedding, word_to_idx"
   ]
  },
  {
   "cell_type": "code",
   "execution_count": 14,
   "id": "193fc2b0-cd73-44a2-984d-9e3f473215fd",
   "metadata": {},
   "outputs": [],
   "source": [
    "#Calculating most frequent words\n",
    "train_df = pd.read_csv(config[\"data_path\"] + \"train.csv\") \n",
    "frequenct_words = train_df.processed_text.str.split(expand=True).stack().value_counts()\n",
    "vocabulary = frequenct_words.index.tolist()\n",
    "\n",
    "embedding, word_to_idx = create_embedings(vocabulary)"
   ]
  },
  {
   "cell_type": "markdown",
   "id": "989757d1-897d-4953-8594-9ddaad5fc4f6",
   "metadata": {},
   "source": [
    "#### Dataset "
   ]
  },
  {
   "cell_type": "code",
   "execution_count": 15,
   "id": "03194ab6-bf7d-4130-a273-882c20651a09",
   "metadata": {},
   "outputs": [],
   "source": [
    "class NewsDataset(Dataset):\n",
    "    def __init__(self, text_dir, word_to_idx):\n",
    "        self.text_dir = text_dir\n",
    "        self.df = pd.read_csv(self.text_dir)\n",
    "        self.word_to_idx = word_to_idx\n",
    "        self.size = len(self.df)\n",
    "        \n",
    "    def __len__(self):\n",
    "        return self.size\n",
    "    \n",
    "    def __getitem__(self, idx):\n",
    "        row = self.df.iloc[idx]\n",
    "        counter = 0\n",
    "        text_to_train = []\n",
    "        for i in row.processed_text:\n",
    "            if counter == config[\"max_length\"]:\n",
    "                break\n",
    "            if i == \"reuters\" and config[\"reuters_remove\"]:\n",
    "                continue\n",
    "            if i in self.word_to_idx:\n",
    "                text_to_train.append(self.word_to_idx[i])\n",
    "                counter += 1\n",
    "        if counter < config[\"max_length\"]:\n",
    "            #padding\n",
    "            text_to_train = text_to_train + [10000 for i in range(config[\"max_length\"] - counter)]  \n",
    "        return torch.tensor(text_to_train) , torch.tensor(row.truth).float()"
   ]
  },
  {
   "cell_type": "code",
   "execution_count": 16,
   "id": "c95a10d3-e4ed-4c49-941d-75b641a84dfe",
   "metadata": {},
   "outputs": [],
   "source": [
    "#initialize datasets\n",
    "#In the paper there was no validating dataset/split so we are using test for validation/ results and etc.\n",
    "#We recognize that it is bad practice, in hindsight we should make validating split.\n",
    "train_dataset = NewsDataset(config[\"data_path\"] + \"train.csv\", word_to_idx)\n",
    "test_dataset = NewsDataset(config[\"data_path\"] + \"test.csv\", word_to_idx)\n",
    "\n",
    "train_dataloader = DataLoader(train_dataset, batch_size=config[\"batch_size\"], shuffle = True)\n",
    "test_dataloader = DataLoader(test_dataset, batch_size=config[\"batch_size\"],  shuffle = False)"
   ]
  },
  {
   "cell_type": "markdown",
   "id": "d967fc5c-96ec-4c08-99b5-408f5c116a88",
   "metadata": {},
   "source": [
    "#### Neural network"
   ]
  },
  {
   "cell_type": "code",
   "execution_count": 17,
   "id": "ff53d2a9-525a-4486-9828-4fe08eaa104b",
   "metadata": {},
   "outputs": [],
   "source": [
    "class Classifier(nn.Module):\n",
    "    def __init__(self, embedding):\n",
    "        super(Classifier,self).__init__()\n",
    "        self.embedings = embedding\n",
    "        self.lstm1 = nn.LSTM(100,128, 1, batch_first=True)\n",
    "        self.lstm2 =  nn.LSTM(128, 64,1, batch_first=True)\n",
    "        self.linear = nn.Sequential(\n",
    "            nn.Linear(64, 32),\n",
    "            nn.ReLU(inplace=True),\n",
    "            nn.Linear(32, 1),\n",
    "            nn.Sigmoid()\n",
    "        )\n",
    "        self._reinitialize()\n",
    "\n",
    "    def _reinitialize(self):\n",
    "        \"\"\"\n",
    "        Tensorflow/Keras-like initialization cause we believe they used tensorflow and not pytorch\n",
    "        from https://www.kaggle.com/code/junkoda/pytorch-lstm-with-tensorflow-like-initialization#Model\n",
    "        \"\"\"\n",
    "        for name, p in self.named_parameters():\n",
    "            if 'lstm' in name:\n",
    "                if 'weight_ih' in name:\n",
    "                    nn.init.xavier_uniform_(p.data)\n",
    "                elif 'weight_hh' in name:\n",
    "                    nn.init.orthogonal_(p.data)\n",
    "                elif 'bias_ih' in name:\n",
    "                    p.data.fill_(0)\n",
    "                    # Set forget-gate bias to 1\n",
    "                    n = p.size(0)\n",
    "                    p.data[(n // 4):(n // 2)].fill_(1)\n",
    "                elif 'bias_hh' in name:\n",
    "                    p.data.fill_(0)\n",
    "            elif 'fc' in name:\n",
    "                if 'weight' in name:\n",
    "                    nn.init.xavier_uniform_(p.data)\n",
    "                elif 'bias' in name:\n",
    "                    p.data.fill_(0)\n",
    "\n",
    "        \n",
    "    def forward(self, x):\n",
    "        #x.float()\n",
    "        x = self.embedings(x)\n",
    "        x, hidden = self.lstm1(x)\n",
    "        x , hidden2 = self.lstm2(x)\n",
    "        \n",
    "        x = self.linear(hidden2[0])\n",
    "        x = x.reshape( x.size()[1]) \n",
    "        return x.float()    "
   ]
  },
  {
   "cell_type": "markdown",
   "id": "d87104f8-e276-4038-80cb-210a8fe483a8",
   "metadata": {},
   "source": [
    "#### Neural network training"
   ]
  },
  {
   "cell_type": "code",
   "execution_count": 18,
   "id": "61476ba3-4eaf-4482-b03a-eb01b3f0db35",
   "metadata": {},
   "outputs": [],
   "source": [
    "def fit(model,loss_criterion,optimizer,epochs,train_dataloader,valid_dataloader):\n",
    "    training_loss, test_loss, training_accuracy, test_accuracy = [], [], [], []\n",
    "    for t in range(epochs):\n",
    "        print(f\"Epoch {t+1}\\n-------------------------------\")\n",
    "        training_loss_epoch, training_accuracy_epoch = train(train_dataloader, model, loss_criterion, optimizer)\n",
    "        test_loss_epoch, test_accuracy_epoch = test(valid_dataloader, model, loss_criterion)\n",
    "        training_loss.append(training_loss_epoch)\n",
    "        test_loss.append(test_loss_epoch)\n",
    "        training_accuracy.append(training_accuracy_epoch)\n",
    "        test_accuracy.append(test_accuracy_epoch)\n",
    "        print(f\"Test Error:  Avg loss: {test_loss_epoch:>8f} \\n\")\n",
    "    print(\"Done!\")\n",
    "    return training_loss, test_loss, training_accuracy, test_accuracy"
   ]
  },
  {
   "cell_type": "code",
   "execution_count": 19,
   "id": "492b9f6d-e079-44c1-8df0-728e7f2cf722",
   "metadata": {},
   "outputs": [],
   "source": [
    "def train(dataloader, model, loss_fn, optimizer):\n",
    "    size = len(dataloader.dataset)\n",
    "    batches = len(dataloader)\n",
    "    model.train()\n",
    "    test_loss, accuracy = 0, 0\n",
    "    for batch, (X, y) in enumerate(tqdm(dataloader)):\n",
    "        #Predicting one batch\n",
    "        X, y = X.to(dev), y.to(dev)\n",
    "        pred = model(X)\n",
    "\n",
    "        #calculating loss\n",
    "        loss = loss_fn(pred, y)\n",
    "        # Backpropagation\n",
    "        optimizer.zero_grad()\n",
    "        loss.backward()\n",
    "        optimizer.step()\n",
    "        #statistics\n",
    "        new_pred = [1 if x >= 0.5 else 0 for x in pred]\n",
    "        accuracy += sum([ 1 if new_pred[i] == y[i] else 0 for i in range(len(new_pred))])\n",
    "        test_loss += loss.item()\n",
    "        if batch % 50 == 0:\n",
    "            loss, current = loss.item(), (batch + 1) * len(X)\n",
    "            #print(f\"loss of this batch: {loss:>7f}  [{current:>5d}/{size:>5d}]\")\n",
    "        \n",
    "    test_loss /= batches\n",
    "    accuracy /= size\n",
    "    return test_loss, accuracy"
   ]
  },
  {
   "cell_type": "code",
   "execution_count": 20,
   "id": "e7acea2f-3427-4f10-8c8e-c1e21be0f109",
   "metadata": {},
   "outputs": [],
   "source": [
    "def test(dataloader, model, loss_fn):\n",
    "    size = len(dataloader.dataset)\n",
    "    batches = len(dataloader)\n",
    "    model.eval()\n",
    "    test_loss, accuracy = 0, 0\n",
    "    with torch.no_grad():\n",
    "        for X, y in tqdm(dataloader):\n",
    "            X, y = X.to(dev), y.to(dev)\n",
    "            pred = model(X)\n",
    "            #statistics\n",
    "            test_loss += loss_fn(pred, y).item()\n",
    "            new_pred = [1 if x >= 0.5 else 0 for x in pred]\n",
    "            accuracy += sum([ 1 if new_pred[i] == y[i] else 0 for i in range(len(new_pred))])\n",
    "    test_loss /= batches\n",
    "    accuracy /= size\n",
    "    return test_loss, accuracy"
   ]
  },
  {
   "cell_type": "code",
   "execution_count": 21,
   "id": "720b6467-f866-4706-bef2-f6efefd8a357",
   "metadata": {},
   "outputs": [
    {
     "name": "stderr",
     "output_type": "stream",
     "text": [
      "  0%|                                                                                          | 0/127 [00:00<?, ?it/s]"
     ]
    },
    {
     "name": "stdout",
     "output_type": "stream",
     "text": [
      "Epoch 1\n",
      "-------------------------------\n"
     ]
    },
    {
     "name": "stderr",
     "output_type": "stream",
     "text": [
      "100%|████████████████████████████████████████████████████████████████████████████████| 127/127 [00:23<00:00,  5.49it/s]\n",
      "100%|██████████████████████████████████████████████████████████████████████████████████| 43/43 [00:05<00:00,  8.13it/s]\n",
      "  0%|                                                                                          | 0/127 [00:00<?, ?it/s]"
     ]
    },
    {
     "name": "stdout",
     "output_type": "stream",
     "text": [
      "Test Error:  Avg loss: 0.670568 \n",
      "\n",
      "Epoch 2\n",
      "-------------------------------\n"
     ]
    },
    {
     "name": "stderr",
     "output_type": "stream",
     "text": [
      "100%|████████████████████████████████████████████████████████████████████████████████| 127/127 [00:20<00:00,  6.14it/s]\n",
      "100%|██████████████████████████████████████████████████████████████████████████████████| 43/43 [00:05<00:00,  8.26it/s]\n",
      "  0%|                                                                                          | 0/127 [00:00<?, ?it/s]"
     ]
    },
    {
     "name": "stdout",
     "output_type": "stream",
     "text": [
      "Test Error:  Avg loss: 0.671012 \n",
      "\n",
      "Epoch 3\n",
      "-------------------------------\n"
     ]
    },
    {
     "name": "stderr",
     "output_type": "stream",
     "text": [
      "100%|████████████████████████████████████████████████████████████████████████████████| 127/127 [00:20<00:00,  6.11it/s]\n",
      "100%|██████████████████████████████████████████████████████████████████████████████████| 43/43 [00:05<00:00,  8.22it/s]\n",
      "  0%|                                                                                          | 0/127 [00:00<?, ?it/s]"
     ]
    },
    {
     "name": "stdout",
     "output_type": "stream",
     "text": [
      "Test Error:  Avg loss: 0.623859 \n",
      "\n",
      "Epoch 4\n",
      "-------------------------------\n"
     ]
    },
    {
     "name": "stderr",
     "output_type": "stream",
     "text": [
      "100%|████████████████████████████████████████████████████████████████████████████████| 127/127 [00:20<00:00,  6.14it/s]\n",
      "100%|██████████████████████████████████████████████████████████████████████████████████| 43/43 [00:05<00:00,  7.46it/s]\n",
      "  0%|                                                                                          | 0/127 [00:00<?, ?it/s]"
     ]
    },
    {
     "name": "stdout",
     "output_type": "stream",
     "text": [
      "Test Error:  Avg loss: 0.132156 \n",
      "\n",
      "Epoch 5\n",
      "-------------------------------\n"
     ]
    },
    {
     "name": "stderr",
     "output_type": "stream",
     "text": [
      "100%|████████████████████████████████████████████████████████████████████████████████| 127/127 [00:20<00:00,  6.08it/s]\n",
      "100%|██████████████████████████████████████████████████████████████████████████████████| 43/43 [00:05<00:00,  8.39it/s]\n",
      "  1%|▋                                                                                 | 1/127 [00:00<00:25,  4.90it/s]"
     ]
    },
    {
     "name": "stdout",
     "output_type": "stream",
     "text": [
      "Test Error:  Avg loss: 0.021997 \n",
      "\n",
      "Epoch 6\n",
      "-------------------------------\n"
     ]
    },
    {
     "name": "stderr",
     "output_type": "stream",
     "text": [
      "100%|████████████████████████████████████████████████████████████████████████████████| 127/127 [00:20<00:00,  6.12it/s]\n",
      "100%|██████████████████████████████████████████████████████████████████████████████████| 43/43 [00:05<00:00,  7.76it/s]\n",
      "  1%|▋                                                                                 | 1/127 [00:00<00:24,  5.17it/s]"
     ]
    },
    {
     "name": "stdout",
     "output_type": "stream",
     "text": [
      "Test Error:  Avg loss: 0.021139 \n",
      "\n",
      "Epoch 7\n",
      "-------------------------------\n"
     ]
    },
    {
     "name": "stderr",
     "output_type": "stream",
     "text": [
      "100%|████████████████████████████████████████████████████████████████████████████████| 127/127 [00:21<00:00,  5.81it/s]\n",
      "100%|██████████████████████████████████████████████████████████████████████████████████| 43/43 [00:05<00:00,  8.09it/s]\n",
      "  0%|                                                                                          | 0/127 [00:00<?, ?it/s]"
     ]
    },
    {
     "name": "stdout",
     "output_type": "stream",
     "text": [
      "Test Error:  Avg loss: 0.018971 \n",
      "\n",
      "Epoch 8\n",
      "-------------------------------\n"
     ]
    },
    {
     "name": "stderr",
     "output_type": "stream",
     "text": [
      "100%|████████████████████████████████████████████████████████████████████████████████| 127/127 [00:21<00:00,  5.86it/s]\n",
      "100%|██████████████████████████████████████████████████████████████████████████████████| 43/43 [00:05<00:00,  8.10it/s]\n",
      "  0%|                                                                                          | 0/127 [00:00<?, ?it/s]"
     ]
    },
    {
     "name": "stdout",
     "output_type": "stream",
     "text": [
      "Test Error:  Avg loss: 0.016107 \n",
      "\n",
      "Epoch 9\n",
      "-------------------------------\n"
     ]
    },
    {
     "name": "stderr",
     "output_type": "stream",
     "text": [
      "100%|████████████████████████████████████████████████████████████████████████████████| 127/127 [00:20<00:00,  6.11it/s]\n",
      "100%|██████████████████████████████████████████████████████████████████████████████████| 43/43 [00:06<00:00,  7.04it/s]\n",
      "  0%|                                                                                          | 0/127 [00:00<?, ?it/s]"
     ]
    },
    {
     "name": "stdout",
     "output_type": "stream",
     "text": [
      "Test Error:  Avg loss: 0.016618 \n",
      "\n",
      "Epoch 10\n",
      "-------------------------------\n"
     ]
    },
    {
     "name": "stderr",
     "output_type": "stream",
     "text": [
      "100%|████████████████████████████████████████████████████████████████████████████████| 127/127 [00:25<00:00,  4.94it/s]\n",
      "100%|██████████████████████████████████████████████████████████████████████████████████| 43/43 [00:05<00:00,  8.12it/s]"
     ]
    },
    {
     "name": "stdout",
     "output_type": "stream",
     "text": [
      "Test Error:  Avg loss: 0.014654 \n",
      "\n",
      "Done!\n"
     ]
    },
    {
     "name": "stderr",
     "output_type": "stream",
     "text": [
      "\n"
     ]
    }
   ],
   "source": [
    "model = Classifier(embedding)\n",
    "model = model.to(dev)\n",
    "optimizer = torch.optim.Adam(model.parameters(),lr=config[\"lr\"])\n",
    "loss_criterion = torch.nn.BCELoss().to(dev)\n",
    "\n",
    "training_loss, test_loss, training_accuracy, test_accuracy = fit(model,loss_criterion,optimizer,config[\"epochs\"],train_dataloader,test_dataloader)"
   ]
  },
  {
   "cell_type": "markdown",
   "id": "c1ee9572-b408-44e6-90d2-1a2b64df78de",
   "metadata": {},
   "source": [
    "#### Procedure for creating graphs"
   ]
  },
  {
   "cell_type": "code",
   "execution_count": null,
   "id": "21778c22-b994-43cf-b34c-ff64ecf2b3e9",
   "metadata": {},
   "outputs": [],
   "source": [
    "#procedure for creating data for graphs\n",
    "trai_l, test_l, trai_ac, test_ac = [], [], [], []\n",
    "for i in range(10):\n",
    "    model = Classifier(embedding)\n",
    "    model = model.to(dev)\n",
    "    optimizer = torch.optim.Adam(model.parameters(),lr=config[\"lr\"])\n",
    "    loss_criterion = torch.nn.BCELoss().to(dev)\n",
    "    training_loss, test_loss, training_accuracy, test_accuracy = fit(model,loss_criterion,optimizer,config[\"epochs\"],train_dataloader,test_dataloader)\n",
    "    trai_l.append(training_loss)\n",
    "    test_l.append(test_loss)\n",
    "    trai_ac.append(training_accuracy) \n",
    "    test_ac.append(test_accuracy)\n",
    "\n",
    "results = {\"trai_l\": trai_l, \"test_l\":test_l, \"trai_ac\":trai_ac, \"test_ac\": test_ac}\n",
    "df = pd.DataFrame(results)\n",
    "df.to_csv(f'{config[\"data_path\"]}results-no-reuters-005.txt')"
   ]
  },
  {
   "cell_type": "code",
   "execution_count": 22,
   "id": "c8535ffd-36f9-42da-b852-260d9088b021",
   "metadata": {},
   "outputs": [],
   "source": [
    "no_reuters_005 = pd.read_csv(f'{config[\"data_path\"]}results-no-reuters-005.txt')\n",
    "dataframes = [no_reuters_005 ]"
   ]
  },
  {
   "cell_type": "code",
   "execution_count": 23,
   "id": "67007101-0753-4152-a1d3-9b6141d842d5",
   "metadata": {},
   "outputs": [],
   "source": [
    "def string_to_list(array):\n",
    "    return [ float(i) for i in array[1:-2].replace(\",\",\"\").split() ]\n",
    "\n",
    "\n",
    "#preparing data\n",
    "for df in dataframes:\n",
    "    df.drop(\"Unnamed: 0\" , axis = 1, inplace= True)\n",
    "    for (columnName, columnData) in df.items():\n",
    "        df[columnName] = df[columnName].apply(string_to_list)"
   ]
  },
  {
   "cell_type": "code",
   "execution_count": 24,
   "id": "5345a504-c3d2-43ce-8338-7d91c468ee65",
   "metadata": {},
   "outputs": [],
   "source": [
    "def create_plot(series, title, y =\"Accuracy on test split\"): #, title, y\n",
    "    result_dict = {}\n",
    "    counter = 1\n",
    "    for i in series:\n",
    "        result_dict[\"run \" + str(counter)] = i\n",
    "        counter += 1\n",
    "    clean_data = pd.DataFrame(result_dict)\n",
    "    clean_data.plot.line(figsize = (10,10), xlabel= \"Epoch\", ylabel = y, legend = False, title = title) # , title= title"
   ]
  },
  {
   "cell_type": "code",
   "execution_count": 27,
   "id": "a287c67d-fc22-469a-b168-c2e9c62ee12f",
   "metadata": {},
   "outputs": [],
   "source": [
    "variable = \"test_ac\"\n",
    "#variable = \"test_l\""
   ]
  },
  {
   "cell_type": "code",
   "execution_count": 28,
   "id": "6dcc2544-2e17-4062-bda4-db5eca267269",
   "metadata": {},
   "outputs": [
    {
     "data": {
      "image/png": "[encoded data removed]",
      "text/plain": [
       "<Figure size 720x720 with 1 Axes>"
      ]
     },
     "metadata": {
      "needs_background": "light"
     },
     "output_type": "display_data"
    }
   ],
   "source": [
    "create_plot(no_reuters_005[variable], \"Without reuters - learning rate 0.005\")\n"
   ]
  },
  {
   "cell_type": "code",
   "execution_count": null,
   "id": "5c0df574-19a9-4a3f-98cb-38fb4d424ede",
   "metadata": {},
   "outputs": [],
   "source": []
  },
  {
   "cell_type": "code",
   "execution_count": null,
   "id": "9045e3ee-9681-451e-ad37-8d0c1a8fbaaa",
   "metadata": {},
   "outputs": [],
   "source": []
  }
 ],
 "metadata": {
  "kernelspec": {
   "display_name": "Python 3",
   "language": "python",
   "name": "python3"
  },
  "language_info": {
   "codemirror_mode": {
    "name": "ipython",
    "version": 3
   },
   "file_extension": ".py",
   "mimetype": "text/x-python",
   "name": "python",
   "nbconvert_exporter": "python",
   "pygments_lexer": "ipython3",
   "version": "3.8.8"
  }
 },
 "nbformat": 4,
 "nbformat_minor": 5
}
